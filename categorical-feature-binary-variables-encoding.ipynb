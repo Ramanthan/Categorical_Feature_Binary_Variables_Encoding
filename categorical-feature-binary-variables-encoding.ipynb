{
 "cells": [
  {
   "cell_type": "code",
   "execution_count": 1,
   "metadata": {
    "_cell_guid": "b1076dfc-b9ad-4769-8c92-a6c4dae69d19",
    "_uuid": "8f2839f25d086af736a60e9eeb907d3b93b6e0e5"
   },
   "outputs": [
    {
     "name": "stdout",
     "output_type": "stream",
     "text": [
      "/kaggle/input/cat-in-the-dat-ii/train.csv\n",
      "/kaggle/input/cat-in-the-dat-ii/test.csv\n",
      "/kaggle/input/cat-in-the-dat-ii/sample_submission.csv\n"
     ]
    }
   ],
   "source": [
    "# This Python 3 environment comes with many helpful analytics libraries installed\n",
    "# It is defined by the kaggle/python docker image: https://github.com/kaggle/docker-python\n",
    "# For example, here's several helpful packages to load in \n",
    "\n",
    "import numpy as np # linear algebra\n",
    "import pandas as pd # data processing, CSV file I/O (e.g. pd.read_csv)\n",
    "\n",
    "# Input data files are available in the \"../input/\" directory.\n",
    "# For example, running this (by clicking run or pressing Shift+Enter) will list all files under the input directory\n",
    "\n",
    "import os\n",
    "for dirname, _, filenames in os.walk('/kaggle/input'):\n",
    "    for filename in filenames:\n",
    "        print(os.path.join(dirname, filename))\n",
    "\n",
    "# Any results you write to the current directory are saved as output."
   ]
  },
  {
   "cell_type": "markdown",
   "metadata": {},
   "source": [
    "**Data Understanding and Cleansing**"
   ]
  },
  {
   "cell_type": "code",
   "execution_count": 2,
   "metadata": {
    "_cell_guid": "79c7e3d0-c299-4dcb-8224-4455121ee9b0",
    "_uuid": "d629ff2d2480ee46fbb7e2d37f6b5fab8052498a"
   },
   "outputs": [
    {
     "name": "stdout",
     "output_type": "stream",
     "text": [
      "<class 'pandas.core.frame.DataFrame'>\n",
      "RangeIndex: 600000 entries, 0 to 599999\n",
      "Data columns (total 25 columns):\n",
      "id        600000 non-null int64\n",
      "bin_0     582106 non-null float64\n",
      "bin_1     581997 non-null float64\n",
      "bin_2     582070 non-null float64\n",
      "bin_3     581986 non-null object\n",
      "bin_4     581953 non-null object\n",
      "nom_0     581748 non-null object\n",
      "nom_1     581844 non-null object\n",
      "nom_2     581965 non-null object\n",
      "nom_3     581879 non-null object\n",
      "nom_4     581965 non-null object\n",
      "nom_5     582222 non-null object\n",
      "nom_6     581869 non-null object\n",
      "nom_7     581997 non-null object\n",
      "nom_8     582245 non-null object\n",
      "nom_9     581927 non-null object\n",
      "ord_0     581712 non-null float64\n",
      "ord_1     581959 non-null object\n",
      "ord_2     581925 non-null object\n",
      "ord_3     582084 non-null object\n",
      "ord_4     582070 non-null object\n",
      "ord_5     582287 non-null object\n",
      "day       582048 non-null float64\n",
      "month     582012 non-null float64\n",
      "target    600000 non-null int64\n",
      "dtypes: float64(6), int64(2), object(17)\n",
      "memory usage: 114.4+ MB\n"
     ]
    }
   ],
   "source": [
    "#Reading the Train file \n",
    "X_train=pd.read_csv(\"/kaggle/input/cat-in-the-dat-ii/train.csv\")\n",
    "X_train.info()"
   ]
  },
  {
   "cell_type": "code",
   "execution_count": 3,
   "metadata": {},
   "outputs": [
    {
     "data": {
      "text/html": [
       "<div>\n",
       "<style scoped>\n",
       "    .dataframe tbody tr th:only-of-type {\n",
       "        vertical-align: middle;\n",
       "    }\n",
       "\n",
       "    .dataframe tbody tr th {\n",
       "        vertical-align: top;\n",
       "    }\n",
       "\n",
       "    .dataframe thead th {\n",
       "        text-align: right;\n",
       "    }\n",
       "</style>\n",
       "<table border=\"1\" class=\"dataframe\">\n",
       "  <thead>\n",
       "    <tr style=\"text-align: right;\">\n",
       "      <th></th>\n",
       "      <th>id</th>\n",
       "      <th>bin_0</th>\n",
       "      <th>bin_1</th>\n",
       "      <th>bin_2</th>\n",
       "      <th>bin_3</th>\n",
       "      <th>bin_4</th>\n",
       "      <th>nom_0</th>\n",
       "      <th>nom_1</th>\n",
       "      <th>nom_2</th>\n",
       "      <th>nom_3</th>\n",
       "      <th>...</th>\n",
       "      <th>nom_8</th>\n",
       "      <th>nom_9</th>\n",
       "      <th>ord_0</th>\n",
       "      <th>ord_1</th>\n",
       "      <th>ord_2</th>\n",
       "      <th>ord_3</th>\n",
       "      <th>ord_4</th>\n",
       "      <th>ord_5</th>\n",
       "      <th>day</th>\n",
       "      <th>month</th>\n",
       "    </tr>\n",
       "  </thead>\n",
       "  <tbody>\n",
       "    <tr>\n",
       "      <th>0</th>\n",
       "      <td>600000</td>\n",
       "      <td>0.0</td>\n",
       "      <td>0.0</td>\n",
       "      <td>0.0</td>\n",
       "      <td>F</td>\n",
       "      <td>Y</td>\n",
       "      <td>Blue</td>\n",
       "      <td>Polygon</td>\n",
       "      <td>Axolotl</td>\n",
       "      <td>Finland</td>\n",
       "      <td>...</td>\n",
       "      <td>ca9ad1d4b</td>\n",
       "      <td>fced9e114</td>\n",
       "      <td>3.0</td>\n",
       "      <td>Novice</td>\n",
       "      <td>Boiling Hot</td>\n",
       "      <td>f</td>\n",
       "      <td>U</td>\n",
       "      <td>oU</td>\n",
       "      <td>3.0</td>\n",
       "      <td>9.0</td>\n",
       "    </tr>\n",
       "    <tr>\n",
       "      <th>1</th>\n",
       "      <td>600001</td>\n",
       "      <td>0.0</td>\n",
       "      <td>0.0</td>\n",
       "      <td>0.0</td>\n",
       "      <td>F</td>\n",
       "      <td>Y</td>\n",
       "      <td>Red</td>\n",
       "      <td>Circle</td>\n",
       "      <td>Lion</td>\n",
       "      <td>Russia</td>\n",
       "      <td>...</td>\n",
       "      <td>060a21580</td>\n",
       "      <td>7ca8775da</td>\n",
       "      <td>1.0</td>\n",
       "      <td>Novice</td>\n",
       "      <td>Cold</td>\n",
       "      <td>n</td>\n",
       "      <td>N</td>\n",
       "      <td>NaN</td>\n",
       "      <td>2.0</td>\n",
       "      <td>8.0</td>\n",
       "    </tr>\n",
       "    <tr>\n",
       "      <th>2</th>\n",
       "      <td>600002</td>\n",
       "      <td>0.0</td>\n",
       "      <td>0.0</td>\n",
       "      <td>0.0</td>\n",
       "      <td>F</td>\n",
       "      <td>Y</td>\n",
       "      <td>Blue</td>\n",
       "      <td>Circle</td>\n",
       "      <td>Axolotl</td>\n",
       "      <td>Russia</td>\n",
       "      <td>...</td>\n",
       "      <td>165e81a00</td>\n",
       "      <td>5940334c9</td>\n",
       "      <td>1.0</td>\n",
       "      <td>Expert</td>\n",
       "      <td>Warm</td>\n",
       "      <td>i</td>\n",
       "      <td>N</td>\n",
       "      <td>DN</td>\n",
       "      <td>2.0</td>\n",
       "      <td>6.0</td>\n",
       "    </tr>\n",
       "    <tr>\n",
       "      <th>3</th>\n",
       "      <td>600003</td>\n",
       "      <td>1.0</td>\n",
       "      <td>0.0</td>\n",
       "      <td>0.0</td>\n",
       "      <td>F</td>\n",
       "      <td>N</td>\n",
       "      <td>Red</td>\n",
       "      <td>Polygon</td>\n",
       "      <td>Axolotl</td>\n",
       "      <td>Costa Rica</td>\n",
       "      <td>...</td>\n",
       "      <td>77d41330d</td>\n",
       "      <td>6fbdeefc8</td>\n",
       "      <td>1.0</td>\n",
       "      <td>Expert</td>\n",
       "      <td>Hot</td>\n",
       "      <td>m</td>\n",
       "      <td>B</td>\n",
       "      <td>AG</td>\n",
       "      <td>1.0</td>\n",
       "      <td>6.0</td>\n",
       "    </tr>\n",
       "    <tr>\n",
       "      <th>4</th>\n",
       "      <td>600004</td>\n",
       "      <td>0.0</td>\n",
       "      <td>0.0</td>\n",
       "      <td>1.0</td>\n",
       "      <td>F</td>\n",
       "      <td>Y</td>\n",
       "      <td>Red</td>\n",
       "      <td>Circle</td>\n",
       "      <td>NaN</td>\n",
       "      <td>Finland</td>\n",
       "      <td>...</td>\n",
       "      <td>2218d9dfe</td>\n",
       "      <td>2a27c8fde</td>\n",
       "      <td>1.0</td>\n",
       "      <td>Contributor</td>\n",
       "      <td>Lava Hot</td>\n",
       "      <td>o</td>\n",
       "      <td>J</td>\n",
       "      <td>DT</td>\n",
       "      <td>3.0</td>\n",
       "      <td>3.0</td>\n",
       "    </tr>\n",
       "  </tbody>\n",
       "</table>\n",
       "<p>5 rows × 24 columns</p>\n",
       "</div>"
      ],
      "text/plain": [
       "       id  bin_0  bin_1  bin_2 bin_3 bin_4 nom_0    nom_1    nom_2  \\\n",
       "0  600000    0.0    0.0    0.0     F     Y  Blue  Polygon  Axolotl   \n",
       "1  600001    0.0    0.0    0.0     F     Y   Red   Circle     Lion   \n",
       "2  600002    0.0    0.0    0.0     F     Y  Blue   Circle  Axolotl   \n",
       "3  600003    1.0    0.0    0.0     F     N   Red  Polygon  Axolotl   \n",
       "4  600004    0.0    0.0    1.0     F     Y   Red   Circle      NaN   \n",
       "\n",
       "        nom_3  ...      nom_8      nom_9 ord_0        ord_1        ord_2  \\\n",
       "0     Finland  ...  ca9ad1d4b  fced9e114   3.0       Novice  Boiling Hot   \n",
       "1      Russia  ...  060a21580  7ca8775da   1.0       Novice         Cold   \n",
       "2      Russia  ...  165e81a00  5940334c9   1.0       Expert         Warm   \n",
       "3  Costa Rica  ...  77d41330d  6fbdeefc8   1.0       Expert          Hot   \n",
       "4     Finland  ...  2218d9dfe  2a27c8fde   1.0  Contributor     Lava Hot   \n",
       "\n",
       "  ord_3  ord_4 ord_5  day month  \n",
       "0     f      U    oU  3.0   9.0  \n",
       "1     n      N   NaN  2.0   8.0  \n",
       "2     i      N    DN  2.0   6.0  \n",
       "3     m      B    AG  1.0   6.0  \n",
       "4     o      J    DT  3.0   3.0  \n",
       "\n",
       "[5 rows x 24 columns]"
      ]
     },
     "execution_count": 3,
     "metadata": {},
     "output_type": "execute_result"
    }
   ],
   "source": [
    "# Reading Test file\n",
    "X_test=pd.read_csv(\"/kaggle/input/cat-in-the-dat-ii/test.csv\")\n",
    "X_test.head()"
   ]
  },
  {
   "cell_type": "code",
   "execution_count": 4,
   "metadata": {},
   "outputs": [
    {
     "data": {
      "text/plain": [
       "id        0.00\n",
       "bin_0     2.98\n",
       "bin_1     3.00\n",
       "bin_2     2.99\n",
       "bin_3     3.00\n",
       "bin_4     3.01\n",
       "nom_0     3.04\n",
       "nom_1     3.03\n",
       "nom_2     3.01\n",
       "nom_3     3.02\n",
       "nom_4     3.01\n",
       "nom_5     2.96\n",
       "nom_6     3.02\n",
       "nom_7     3.00\n",
       "nom_8     2.96\n",
       "nom_9     3.01\n",
       "ord_0     3.05\n",
       "ord_1     3.01\n",
       "ord_2     3.01\n",
       "ord_3     2.99\n",
       "ord_4     2.99\n",
       "ord_5     2.95\n",
       "day       2.99\n",
       "month     3.00\n",
       "target    0.00\n",
       "dtype: float64"
      ]
     },
     "execution_count": 4,
     "metadata": {},
     "output_type": "execute_result"
    }
   ],
   "source": [
    "# Identifying Missing Values perecntage of train data set\n",
    "round((X_train.isnull().sum()/len(X_train)*100),2)"
   ]
  },
  {
   "cell_type": "code",
   "execution_count": 5,
   "metadata": {},
   "outputs": [
    {
     "data": {
      "text/plain": [
       "id       0.00\n",
       "bin_0    2.98\n",
       "bin_1    3.01\n",
       "bin_2    2.99\n",
       "bin_3    2.99\n",
       "bin_4    2.99\n",
       "nom_0    3.02\n",
       "nom_1    2.99\n",
       "nom_2    3.04\n",
       "nom_3    3.04\n",
       "nom_4    3.00\n",
       "nom_5    2.98\n",
       "nom_6    3.00\n",
       "nom_7    3.00\n",
       "nom_8    2.99\n",
       "nom_9    3.02\n",
       "ord_0    2.97\n",
       "ord_1    3.04\n",
       "ord_2    3.03\n",
       "ord_3    3.01\n",
       "ord_4    2.98\n",
       "ord_5    3.01\n",
       "day      3.01\n",
       "month    3.00\n",
       "dtype: float64"
      ]
     },
     "execution_count": 5,
     "metadata": {},
     "output_type": "execute_result"
    }
   ],
   "source": [
    "# Identifying Missing Values perecntage of test data set\n",
    "round((X_test.isnull().sum()/len(X_test)*100),2)"
   ]
  },
  {
   "cell_type": "markdown",
   "metadata": {},
   "source": [
    "As above columns contins around ~3% of NULL values, It is good to impute with Mean for Numerical columns and Mode for Categorical Columns."
   ]
  },
  {
   "cell_type": "code",
   "execution_count": 6,
   "metadata": {},
   "outputs": [],
   "source": [
    "# Get list of categorical variables\n",
    "s = X_train.select_dtypes(include=['object'])\n",
    "Cat_cols=s.columns.to_list()\n"
   ]
  },
  {
   "cell_type": "markdown",
   "metadata": {},
   "source": [
    "We will impute above categorical columns with Mode."
   ]
  },
  {
   "cell_type": "code",
   "execution_count": 7,
   "metadata": {},
   "outputs": [
    {
     "data": {
      "text/plain": [
       "id        0.00\n",
       "bin_0     2.98\n",
       "bin_1     3.00\n",
       "bin_2     2.99\n",
       "bin_3     0.00\n",
       "bin_4     0.00\n",
       "nom_0     0.00\n",
       "nom_1     0.00\n",
       "nom_2     0.00\n",
       "nom_3     0.00\n",
       "nom_4     0.00\n",
       "nom_5     0.00\n",
       "nom_6     0.00\n",
       "nom_7     0.00\n",
       "nom_8     0.00\n",
       "nom_9     0.00\n",
       "ord_0     3.05\n",
       "ord_1     0.00\n",
       "ord_2     0.00\n",
       "ord_3     0.00\n",
       "ord_4     0.00\n",
       "ord_5     0.00\n",
       "day       2.99\n",
       "month     3.00\n",
       "target    0.00\n",
       "dtype: float64"
      ]
     },
     "execution_count": 7,
     "metadata": {},
     "output_type": "execute_result"
    }
   ],
   "source": [
    "#Imputing Missg Values with Mode() for categorical columns\n",
    "for c in Cat_cols:\n",
    "    X_train[c].fillna(X_train[c].mode()[0], inplace = True)  \n",
    "round((X_train.isnull().sum()/len(X_train)*100),2)    "
   ]
  },
  {
   "cell_type": "code",
   "execution_count": 8,
   "metadata": {},
   "outputs": [
    {
     "data": {
      "text/plain": [
       "id       0.00\n",
       "bin_0    2.98\n",
       "bin_1    3.01\n",
       "bin_2    2.99\n",
       "bin_3    0.00\n",
       "bin_4    0.00\n",
       "nom_0    0.00\n",
       "nom_1    0.00\n",
       "nom_2    0.00\n",
       "nom_3    0.00\n",
       "nom_4    0.00\n",
       "nom_5    0.00\n",
       "nom_6    0.00\n",
       "nom_7    0.00\n",
       "nom_8    0.00\n",
       "nom_9    0.00\n",
       "ord_0    2.97\n",
       "ord_1    0.00\n",
       "ord_2    0.00\n",
       "ord_3    0.00\n",
       "ord_4    0.00\n",
       "ord_5    0.00\n",
       "day      3.01\n",
       "month    3.00\n",
       "dtype: float64"
      ]
     },
     "execution_count": 8,
     "metadata": {},
     "output_type": "execute_result"
    }
   ],
   "source": [
    "#Imputing Missg Values with Mode() for categorical columns-Test data set\n",
    "for c in Cat_cols:\n",
    "    X_test[c].fillna(X_test[c].mode()[0], inplace = True)  \n",
    "round((X_test.isnull().sum()/len(X_test)*100),2)  "
   ]
  },
  {
   "cell_type": "markdown",
   "metadata": {},
   "source": [
    "Next is to impute Numerical columns with Mean value"
   ]
  },
  {
   "cell_type": "code",
   "execution_count": 9,
   "metadata": {},
   "outputs": [
    {
     "data": {
      "text/plain": [
       "id        0.0\n",
       "bin_0     0.0\n",
       "bin_1     0.0\n",
       "bin_2     0.0\n",
       "bin_3     0.0\n",
       "bin_4     0.0\n",
       "nom_0     0.0\n",
       "nom_1     0.0\n",
       "nom_2     0.0\n",
       "nom_3     0.0\n",
       "nom_4     0.0\n",
       "nom_5     0.0\n",
       "nom_6     0.0\n",
       "nom_7     0.0\n",
       "nom_8     0.0\n",
       "nom_9     0.0\n",
       "ord_0     0.0\n",
       "ord_1     0.0\n",
       "ord_2     0.0\n",
       "ord_3     0.0\n",
       "ord_4     0.0\n",
       "ord_5     0.0\n",
       "day       0.0\n",
       "month     0.0\n",
       "target    0.0\n",
       "dtype: float64"
      ]
     },
     "execution_count": 9,
     "metadata": {},
     "output_type": "execute_result"
    }
   ],
   "source": [
    "Num_cols =X_train.select_dtypes(include=['int64','float']).columns.to_list()\n",
    "Num_cols.pop(Num_cols.index('id'))  #Removing ID as it not requried\n",
    "Num_cols\n",
    "\n",
    "\n",
    "for c in Num_cols:\n",
    "    X_train[c].fillna(np.mean(X_train[c]), inplace = True)  \n",
    "round((X_train.isnull().sum()/len(X_train)*100),2)"
   ]
  },
  {
   "cell_type": "code",
   "execution_count": 10,
   "metadata": {},
   "outputs": [
    {
     "data": {
      "text/plain": [
       "id       0.0\n",
       "bin_0    0.0\n",
       "bin_1    0.0\n",
       "bin_2    0.0\n",
       "bin_3    0.0\n",
       "bin_4    0.0\n",
       "nom_0    0.0\n",
       "nom_1    0.0\n",
       "nom_2    0.0\n",
       "nom_3    0.0\n",
       "nom_4    0.0\n",
       "nom_5    0.0\n",
       "nom_6    0.0\n",
       "nom_7    0.0\n",
       "nom_8    0.0\n",
       "nom_9    0.0\n",
       "ord_0    0.0\n",
       "ord_1    0.0\n",
       "ord_2    0.0\n",
       "ord_3    0.0\n",
       "ord_4    0.0\n",
       "ord_5    0.0\n",
       "day      0.0\n",
       "month    0.0\n",
       "dtype: float64"
      ]
     },
     "execution_count": 10,
     "metadata": {},
     "output_type": "execute_result"
    }
   ],
   "source": [
    "# Test Dataset\n",
    "Num_cols =X_test.select_dtypes(include=['int64','float']).columns.to_list()\n",
    "Num_cols.pop(Num_cols.index('id'))  #Removing ID as it not requried\n",
    "Num_cols\n",
    "\n",
    "\n",
    "for c in Num_cols:\n",
    "    X_test[c].fillna(np.mean(X_test[c]), inplace = True)  \n",
    "round((X_test.isnull().sum()/len(X_test)*100),2)"
   ]
  },
  {
   "cell_type": "markdown",
   "metadata": {},
   "source": [
    "Now data set contain no NULL values and  is ready for EDA"
   ]
  },
  {
   "cell_type": "code",
   "execution_count": 11,
   "metadata": {},
   "outputs": [
    {
     "name": "stdout",
     "output_type": "stream",
     "text": [
      "['bin_0'] [0.         1.         0.09230106]\n",
      "['bin_1'] [0.         1.         0.18553188]\n",
      "['bin_2'] [0.         1.         0.27870359]\n",
      "['bin_3'] ['F' 'T']\n",
      "['bin_4'] ['N' 'Y']\n"
     ]
    }
   ],
   "source": [
    "\n",
    "bin_cols = [col for col in X_train if col.startswith('bin')]\n",
    "\n",
    "for i in bin_cols:\n",
    "    print([i],X_train[i].unique())"
   ]
  },
  {
   "cell_type": "code",
   "execution_count": 12,
   "metadata": {},
   "outputs": [
    {
     "name": "stdout",
     "output_type": "stream",
     "text": [
      "['bin_0'] [0.         1.         0.09358952]\n",
      "['bin_1'] [0.         1.         0.18715493]\n",
      "['bin_2'] [0.         1.         0.27840774]\n",
      "['bin_3'] ['F' 'T']\n",
      "['bin_4'] ['Y' 'N']\n"
     ]
    }
   ],
   "source": [
    "bin_cols = [col for col in X_test if col.startswith('bin')]\n",
    "\n",
    "for i in bin_cols:\n",
    "    print([i],X_test[i].unique())"
   ]
  },
  {
   "cell_type": "markdown",
   "metadata": {},
   "source": [
    "binary variables bin_0,bin_1,bin_2 contains decimal as well. we will convert it into either 0 or 1 based on threshold"
   ]
  },
  {
   "cell_type": "code",
   "execution_count": 13,
   "metadata": {},
   "outputs": [],
   "source": [
    "# Converting into Binary values\n",
    "for i in bin_cols[:3]:\n",
    "    X_train[i]=X_train[i].apply(lambda x : 1 if x>0.5 else 0)\n",
    "    \n",
    "for i in bin_cols[:3]:\n",
    "    X_test[i]=X_test[i].apply(lambda x : 1 if x>0.5 else 0)    \n",
    "     "
   ]
  },
  {
   "cell_type": "code",
   "execution_count": 14,
   "metadata": {},
   "outputs": [
    {
     "data": {
      "text/plain": [
       "array([0, 1])"
      ]
     },
     "execution_count": 14,
     "metadata": {},
     "output_type": "execute_result"
    }
   ],
   "source": [
    "X_train['bin_0'].unique()"
   ]
  },
  {
   "cell_type": "code",
   "execution_count": 15,
   "metadata": {},
   "outputs": [],
   "source": [
    "import seaborn as sns\n",
    "import matplotlib.pyplot as plt "
   ]
  },
  {
   "cell_type": "code",
   "execution_count": 16,
   "metadata": {},
   "outputs": [
    {
     "data": {
      "image/png": "[encoded data removed]",
      "text/plain": [
       "<Figure size 432x288 with 1 Axes>"
      ]
     },
     "metadata": {
      "needs_background": "light"
     },
     "output_type": "display_data"
    },
    {
     "data": {
      "image/png": "[encoded data removed]",
      "text/plain": [
       "<Figure size 432x288 with 1 Axes>"
      ]
     },
     "metadata": {
      "needs_background": "light"
     },
     "output_type": "display_data"
    },
    {
     "data": {
      "image/png": "[encoded data removed]",
      "text/plain": [
       "<Figure size 432x288 with 1 Axes>"
      ]
     },
     "metadata": {
      "needs_background": "light"
     },
     "output_type": "display_data"
    },
    {
     "data": {
      "image/png": "[encoded data removed]",
      "text/plain": [
       "<Figure size 432x288 with 1 Axes>"
      ]
     },
     "metadata": {
      "needs_background": "light"
     },
     "output_type": "display_data"
    },
    {
     "data": {
      "image/png": "[encoded data removed]",
      "text/plain": [
       "<Figure size 432x288 with 1 Axes>"
      ]
     },
     "metadata": {
      "needs_background": "light"
     },
     "output_type": "display_data"
    }
   ],
   "source": [
    "# Binary variable visualisation\n",
    "\n",
    "for i in bin_cols:\n",
    "    sns.countplot(x=i, hue=\"target\", data=X_train)\n",
    "    plt.title(i)\n",
    "    plt.show()"
   ]
  },
  {
   "cell_type": "code",
   "execution_count": 17,
   "metadata": {},
   "outputs": [],
   "source": [
    "# Bin_3 and Bin_4- We convert categorical into Binary values\n",
    "X_train['bin_3']=X_train['bin_3'].apply(lambda x : 1 if 'F' else 'T')\n",
    "X_train['bin_4']=X_train['bin_2'].apply(lambda x : 1 if 'N' else 'Y')\n",
    "\n",
    "# Test set\n",
    "X_test['bin_3']=X_test['bin_3'].apply(lambda x : 1 if 'F' else 'T')\n",
    "X_test['bin_4']=X_test['bin_2'].apply(lambda x : 1 if 'N' else 'Y')\n",
    "\n"
   ]
  },
  {
   "cell_type": "code",
   "execution_count": 18,
   "metadata": {},
   "outputs": [
    {
     "data": {
      "text/html": [
       "<div>\n",
       "<style scoped>\n",
       "    .dataframe tbody tr th:only-of-type {\n",
       "        vertical-align: middle;\n",
       "    }\n",
       "\n",
       "    .dataframe tbody tr th {\n",
       "        vertical-align: top;\n",
       "    }\n",
       "\n",
       "    .dataframe thead th {\n",
       "        text-align: right;\n",
       "    }\n",
       "</style>\n",
       "<table border=\"1\" class=\"dataframe\">\n",
       "  <thead>\n",
       "    <tr style=\"text-align: right;\">\n",
       "      <th></th>\n",
       "      <th>bin_0</th>\n",
       "      <th>bin_1</th>\n",
       "      <th>bin_2</th>\n",
       "      <th>bin_3</th>\n",
       "      <th>bin_4</th>\n",
       "    </tr>\n",
       "  </thead>\n",
       "  <tbody>\n",
       "    <tr>\n",
       "      <th>0</th>\n",
       "      <td>0</td>\n",
       "      <td>0</td>\n",
       "      <td>0</td>\n",
       "      <td>1</td>\n",
       "      <td>1</td>\n",
       "    </tr>\n",
       "    <tr>\n",
       "      <th>1</th>\n",
       "      <td>1</td>\n",
       "      <td>1</td>\n",
       "      <td>0</td>\n",
       "      <td>1</td>\n",
       "      <td>1</td>\n",
       "    </tr>\n",
       "    <tr>\n",
       "      <th>2</th>\n",
       "      <td>0</td>\n",
       "      <td>1</td>\n",
       "      <td>0</td>\n",
       "      <td>1</td>\n",
       "      <td>1</td>\n",
       "    </tr>\n",
       "    <tr>\n",
       "      <th>3</th>\n",
       "      <td>0</td>\n",
       "      <td>0</td>\n",
       "      <td>0</td>\n",
       "      <td>1</td>\n",
       "      <td>1</td>\n",
       "    </tr>\n",
       "    <tr>\n",
       "      <th>4</th>\n",
       "      <td>0</td>\n",
       "      <td>0</td>\n",
       "      <td>0</td>\n",
       "      <td>1</td>\n",
       "      <td>1</td>\n",
       "    </tr>\n",
       "  </tbody>\n",
       "</table>\n",
       "</div>"
      ],
      "text/plain": [
       "   bin_0  bin_1  bin_2  bin_3  bin_4\n",
       "0      0      0      0      1      1\n",
       "1      1      1      0      1      1\n",
       "2      0      1      0      1      1\n",
       "3      0      0      0      1      1\n",
       "4      0      0      0      1      1"
      ]
     },
     "execution_count": 18,
     "metadata": {},
     "output_type": "execute_result"
    }
   ],
   "source": [
    "X_train[bin_cols].head()"
   ]
  },
  {
   "cell_type": "markdown",
   "metadata": {},
   "source": [
    "Now Binary columns are ready for Modelling. Next is to encoding nominal and ordinary variables"
   ]
  },
  {
   "cell_type": "code",
   "execution_count": 19,
   "metadata": {},
   "outputs": [
    {
     "name": "stdout",
     "output_type": "stream",
     "text": [
      "['ord_0'] [3.         1.         2.         1.94822352]\n",
      "['ord_1'] ['Contributor' 'Grandmaster' 'Novice' 'Expert' 'Master']\n",
      "['ord_2'] ['Hot' 'Warm' 'Freezing' 'Lava Hot' 'Cold' 'Boiling Hot']\n",
      "['ord_3'] ['c' 'e' 'n' 'a' 'h' 'b' 'd' 'k' 'g' 'o' 'i' 'm' 'f' 'l' 'j']\n",
      "['ord_4'] ['U' 'X' 'P' 'C' 'Q' 'R' 'Y' 'N' 'I' 'O' 'M' 'E' 'V' 'K' 'G' 'B' 'H' 'T'\n",
      " 'W' 'A' 'F' 'D' 'S' 'J' 'L' 'Z']\n",
      "['ord_5'] ['Pw' 'pE' 'eN' 'Fl' 'OZ' 'wa' 'rg' 'PS' 'mX' 'hG' 'xF' 'RV' 'Nh' 'dp'\n",
      " 'SS' 'OM' 'Rv' 'HF' 'iS' 'HK' 'Ib' 'AW' 'mi' 'jf' 'Tz' 'ok' 'nS' 'Sz'\n",
      " 'sf' 'fV' 'iv' 'US' 'dh' 'Io' 'RD' 'oI' 'DN' 'IS' 'oh' 'YJ' 'vq' 'us'\n",
      " 'sY' 'th' 'Ey' 'AI' 'Mg' 'oU' 'Dj' 'TH' 'CN' 'aA' 'tT' 'Wr' 'TZ' 'mo'\n",
      " 'rM' 'Pk' 'UV' 'RT' 'DT' 'Hk' 'Dn' 'nj' 'gL' 'cy' 'JT' 'XC' 'lA' 'TL'\n",
      " 'zp' 'XM' 'AG' 'WW' 'GZ' 'MV' 'Bx' 'oJ' 'ze' 'Rj' 'LY' 'Iq' 'gc' 'LS'\n",
      " 'hx' 'JQ' 'fO' 'vx' 'MX' 'ly' 'BX' 'Yr' 'XR' 'yE' 'Sk' 'aE' 'wU' 'rA'\n",
      " 'Ji' 'qN' 'nn' 'kv' 'pB' 'sc' 'EC' 'kT' 'be' 'uQ' 'DI' 'hT' 'pl' 'tn'\n",
      " 'xG' 'NT' 'fe' 'lS' 'Mq' 'Yi' 'BL' 'AU' 'ht' 'Ro' 'al' 'mD' 'ur' 'DR'\n",
      " 'Re' 'XI' 'sF' 'Rz' 'Lo' 'In' 'Kq' 'cY' 'uZ' 'rl' 'zc' 'XU' 'CU' 'lR'\n",
      " 'xB' 'pT' 'gj' 'Ox' 'yK' 'vw' 'Ay' 'HO' 'TP' 'ep' 'ne' 'Oe' 'mP' 'cR'\n",
      " 'IA' 'QV' 'Ty' 'qP' 'gK' 'wJ' 'cg' 'zf' 'WC' 'NS' 'Yb' 'kB' 'MU' 'kP'\n",
      " 'FH' 'fF' 'jp' 'gt' 'Qm' 'Cn' 'pZ' 'nf' 'ja' 'Tg' 'uP' 'uW' 'FB' 'uI'\n",
      " 'MF' 'RB' 'SL' 'PG' 'vQ' 'eA' 'gV' 'Zv']\n"
     ]
    }
   ],
   "source": [
    "ord_cols = [col for col in X_train if col.startswith('ord')]\n",
    "\n",
    "for i in ord_cols:\n",
    "    print([i],X_train[i].unique())"
   ]
  },
  {
   "cell_type": "code",
   "execution_count": 20,
   "metadata": {},
   "outputs": [
    {
     "name": "stdout",
     "output_type": "stream",
     "text": [
      "['nom_0'] ['Red' 'Blue' 'Green']\n",
      "['nom_1'] ['Trapezoid' 'Star' 'Triangle' 'Circle' 'Polygon' 'Square']\n",
      "['nom_2'] ['Hamster' 'Axolotl' 'Lion' 'Dog' 'Cat' 'Snake']\n",
      "['nom_3'] ['Russia' 'India' 'Canada' 'Finland' 'Costa Rica' 'China']\n",
      "['nom_4'] ['Bassoon' 'Theremin' 'Oboe' 'Piano']\n",
      "['nom_5'] ['de4c57ee2' '2bb3c3e5c' 'b574c9841' ... 'b3ad70fcb' 'd6bb2181a'\n",
      " '30019ce8a']\n",
      "['nom_6'] ['a64bc7ddf' '3a3a936e8' '708248125' ... '96c5df3d0' 'a93b49b8c'\n",
      " 'd80c01ec8']\n",
      "['nom_7'] ['598080a91' '1dddb8473' '5ddc9a726' '3a33ef960' 'bc9cc2a94' '8c30b9b0b'\n",
      " '1cba571fa' '81d67e1bb' '429114096' '56d35c774' '93360bbc9' '088aace2d'\n",
      " '12370b989' 'ba9faf5b1' 'fdebf0648' '90a2cba07' '5de0b3fa7' 'e5b00a0e0'\n",
      " '1d2ee04de' '4ae48e857' '69403e18c' 'cf84cbe77' 'fba315672' '6e29d3f38'\n",
      " 'c3ad85934' '6b1d5295a' 'a306b1f4e' '432ee0053' '9a9e7bf71' 'b2d0012ea'\n",
      " '9d52e9089' 'bb63fcef7' 'dd4d69481' 'b0ab8b134' '2c649f60e' '42f607baa'\n",
      " '7e1c4cff1' '482233c7f' '7f31f4d2b' '11409e362' '3f63ecb96' '057ab40ea'\n",
      " '4b13d99ca' '69238b544' '5622ee17f' '1c756c04a' 'afac5238e' 'e4340c326'\n",
      " '018382adf' '8dbc78da5' '3c415c2b7' 'e61c53286' '83bdea3a5' '25eb75323'\n",
      " '1eb783b97' '964fd0850' '99cb99a50' 'c79d2197d' '3efdc7987' 'ffe61f9f6'\n",
      " '768bc4738' 'debb0f7ec' '51e1131b4' '83c994142' 'f74f0b894' '68b2de491'\n",
      " '3afd3697d' '28547ea20' 'f14f5e4a5' '41901460a' '942593b74' '623908296'\n",
      " '31a3c86df' '9b35d8994' 'd40ca0718' '16fa03dee' 'e60e65034' '20b56638c'\n",
      " '5e17197af' '8bc849561' '40bdb3373' 'b4678a59e' '0ffdb2c15' '545ad7c80'\n",
      " '1bd74ace9' 'a7059911d' '8a382f14d' 'e59dd3e27' '833d88c6c' '0764632bc'\n",
      " 'a8cfb0795' '1ba4e8ff1' '3599d0255' '00a7f9a05' '8402256f6' '74a864a6b'\n",
      " '0e4d3318a' '567934479' '857cbf8c7' 'ead914edc' '8157480dd' '6c7aa4dc4'\n",
      " '27560c3a3' '934155e05' '9294ac66b' '216083343' '362507ea5' '3d449d3e8'\n",
      " 'ba16219f4' '8fc780921' '199d01a7f' '67a8d4ebb' '9d4a94d03' '3d9d8f526'\n",
      " '0eb5e9781' '580231f65' '3ef3018d3' '3600c6e91' '0da2378c8' '7fcdbac1d'\n",
      " '5627228e9' '4617418f2' 'c5f7d2efd' '97bb3e7fa' '91208fa55' '728490578'\n",
      " '7b4b2eabf' '8c9b654fe' 'b97010abc' '909943002' '51a4ac0be' 'a0730843f'\n",
      " 'c9aaf28b7' 'adbdefba3' '7684d9eb7' '6b56b4325' '86ec768cd' '6bc753dd6'\n",
      " '0304a1b60' '5d1ac7760' '82d196aa1' '63ab45432' 'cd9feb5c6' '8781919c2'\n",
      " '688888fbe' '2786e24d2' '21955ee26' 'cb681246b' 'fff8dea99' '2aeb8ae84'\n",
      " 'f313d1e52' '2b2108e9e' 'd2ecbd100' '8a528cb08' '303f4e39a' 'ece4087ec'\n",
      " 'e06abf51f' '7f6fad56e' '6536122f4' '84b44fe42' '94d34d287' '7bf938847'\n",
      " '230229e51' 'cb47f665d' '01103c3e4' '2c4f9614e' '443cdbd48' 'b4d7d7c94'\n",
      " 'd7f06353a' '1bf2f7824' 'b4eb50264' 'f12d5e8c0' '85fb6971c' 'd8c3cfd78'\n",
      " '8d857a0a1' '4be936718' '4f0a50007' '22a1b223f' '2506ce93d' '114b1dbf3'\n",
      " '41afb892d' 'b2151e2cd' '7b21ee165' '6602f7bf5' '190522cfb' 'a42fb9969'\n",
      " '42c7572b4' '082e2b9ae' '237fdf58b' '8da514edb' '81b479cc3' 'ac365406b'\n",
      " 'b519f5dff' '4b41ba86c' '54f62d537' '77706a5ee' '0c208bfa0' 'ec4b54637'\n",
      " 'd3d8f55e0' '3f2e87b23' 'ab85a7b9c' '2fa636740' 'f94d9babd' '5d5b262b1'\n",
      " '75d0e3ef8' 'e371063e2' '9289b1aab' '58a27d7e7' '49ae7bdc0' '9fed600dc'\n",
      " '7ab87e58e' 'e3342b01a' '16e07c05c' '3d2d50707' 'c273b5ace' '1828818ab'\n",
      " 'deec583dd' '3065f26f4' 'e44e2dea4' 'e9c57c4aa' '8046bea1a' 'b39008216']\n",
      "['nom_8'] ['0256c7a4b' '52ead350c' '745b909d1' 'bdaa56dd1' '7d7c02c57' '690411ac0'\n",
      " 'b8e63cace' 'bd9643a20' '94c5fd40c' '0279391c5' '28869f8aa' '74a092964'\n",
      " '5bdcf7324' 'e6873698e' 'a1d71618d' 'd48e8b7af' '587840371' 'dda9ca69e'\n",
      " '165e81a00' 'e0c7234cf' 'd8e02864a' '574575c14' '23dc2e63d' '25c087d05'\n",
      " 'ca9ad1d4b' '484c96b82' 'd0ab86574' '53efabb84' '1df855856' '63dde2492'\n",
      " 'a8009baf5' '679b63eff' 'd1c6bb70d' '60c7c84ee' '45121db5e' 'd8bad19d0'\n",
      " '79c79ecbf' 'bccfd92a2' '5e348d538' 'dcccc6c19' '43e0ac7a1' '7c77c52f3'\n",
      " '210039295' 'b279e09c3' '95414620e' '10fd52d10' 'c9bbbb717' '4164322bd'\n",
      " 'ee0a32458' 'a5eef5d8b' 'abce980f5' '5a3040de6' '7e7ddd679' '7ff3ee36e'\n",
      " '5859a8a06' '90e9e961e' '8ce034bb6' 'f7b3f1d13' '9dd6a02eb' 'b4815ac52'\n",
      " '9789d425f' '7a66737e5' '94a6512e2' 'd6c8281a8' '56dbcd7de' '1ce5cf721'\n",
      " 'b33edbeb2' '9fa5832d8' '777ce63ea' '77d41330d' 'da7e5f6fa' 'f635e7f7f'\n",
      " '28c042258' '153864851' '4918ca307' '9f6ed3f30' 'b72c0bbc2' '154aacc1c'\n",
      " '060a21580' 'fe070240a' '954bb9489' 'fa49d4e04' 'ef752c107' '9fcf4fab4'\n",
      " '158183c63' '32412c81c' '573c92006' '529b40fe8' '9863487ba' '590d9c11d'\n",
      " 'de6d6e3d8' '8109ba950' '46a005ddf' '0f94eb834' 'afb0fafb0' '8dc88fa15'\n",
      " 'cb0d7da76' '2218d9dfe' '7f06ae9e8' '15f03b1f4' '48982830e' 'a625ea144'\n",
      " '9417fa5d7' 'd7e75499d' '43a73e5ef' '2db5a9486' '4d31e3bf2' 'd5a47d599'\n",
      " '22e0a764d' 'd8729dd2d' '1d88b0a79' 'e9fde8fa8' '0f269cbc8' '1e722bf45'\n",
      " '6f853fd13' 'f51683d93' '91b32f31b' '32b33a4b4' 'af22df36a' '750cb6661'\n",
      " '964a66013' 'e6061cbe7' 'cccbca824' '862d2fbff' '8d13bd3e9' 'a89e1c1dc'\n",
      " 'cf30695f0' '32ff72b97' 'b42763706' 'd9148f8e7' '53419bedc' 'ff3ba3bbc'\n",
      " '8aeac2495' '3d70f650d' '2061350b9' '5c1c7fa53' '67d372885' '0602256df'\n",
      " 'fbbafaadc' '4abb8589e' 'ad5be5be4' '729cafb68' '704871e3b' 'fca8ae0cf'\n",
      " 'b10ef207b' 'dd674992f' '4f727aeee' '5a7ade619' 'f81a5366b' '6d3db6c57'\n",
      " '31db9b004' 'ceab144aa' '798ccea46' '6ff91d4e8' '7d7394cbd' '75a957c6d'\n",
      " '7e3a861d6' '6ab87efb1' '3776bb1ae' 'ee3c7aa8f' '2b34f5aca' '8e38a5c1b'\n",
      " '44f8a6061' 'e40c451d4' 'c2036219b' '1fe15a999' '007bff22a' '0e5249dbe'\n",
      " 'd06a44f23' '1a59581be' '7861df0a8' 'cf233e69e' 'ee474d72d' '1f2cd223e'\n",
      " '8df93e6c9' '220190c9e' '634c43a77' '35309e01b' 'a408ea8d6' 'cadc0cc42'\n",
      " '2694748e3' 'f41dce3cc' 'f8510b161' '1c4931f19' 'fbea9bb4a' '475f992f0'\n",
      " '4a5423b60' '607c26084' '7c89e4b36' '6eb21874b' '7217196aa' '2c58293c4'\n",
      " 'f338368af' '3fdf92cf7' '3210cd7c1' '88eef0278' 'cc5495ab3' '9c63b4d79'\n",
      " '3e8a577e3' '83fb0260e' 'c1a4acfaf' '1653ceb33' '99bb7aedf' '563651ed8'\n",
      " '68f9b1267' '9416a52f9' '1b6796452' '8637fc534' '9cc561d1b' '3d0ea8194'\n",
      " '5f254ada1' '1195f603e' 'e4a142d80' '21595d82e' '8d31d1ab3' '29964d969'\n",
      " '4584d6fcd' '82cc2cb4f' 'e11794ad3' '4348381e1' '6492aecc3' '115d9fd8b']\n",
      "['nom_9'] ['02e7c8990' 'f37df64af' '8f3276a6e' ... 'd1e6704ed' 'b5f9881ba'\n",
      " '1538d82e9']\n"
     ]
    }
   ],
   "source": [
    "nominal_cols = [col for col in X_train if col.startswith('nom')]\n",
    "\n",
    "for i in nominal_cols:\n",
    "    print([i],X_train[i].unique())"
   ]
  },
  {
   "cell_type": "markdown",
   "metadata": {},
   "source": [
    "**Categorical Encoding**"
   ]
  },
  {
   "cell_type": "markdown",
   "metadata": {},
   "source": [
    "We have to do encoding for Categorical variables. For Nominal , it is better to do by One Hot Encoding"
   ]
  },
  {
   "cell_type": "code",
   "execution_count": 21,
   "metadata": {},
   "outputs": [
    {
     "name": "stdout",
     "output_type": "stream",
     "text": [
      "<class 'pandas.core.frame.DataFrame'>\n",
      "RangeIndex: 600000 entries, 0 to 599999\n",
      "Data columns (total 25 columns):\n",
      "id        600000 non-null int64\n",
      "bin_0     600000 non-null int64\n",
      "bin_1     600000 non-null int64\n",
      "bin_2     600000 non-null int64\n",
      "bin_3     600000 non-null int64\n",
      "bin_4     600000 non-null int64\n",
      "nom_0     600000 non-null object\n",
      "nom_1     600000 non-null object\n",
      "nom_2     600000 non-null object\n",
      "nom_3     600000 non-null object\n",
      "nom_4     600000 non-null object\n",
      "nom_5     600000 non-null object\n",
      "nom_6     600000 non-null object\n",
      "nom_7     600000 non-null object\n",
      "nom_8     600000 non-null object\n",
      "nom_9     600000 non-null object\n",
      "ord_0     600000 non-null float64\n",
      "ord_1     600000 non-null object\n",
      "ord_2     600000 non-null object\n",
      "ord_3     600000 non-null object\n",
      "ord_4     600000 non-null object\n",
      "ord_5     600000 non-null object\n",
      "day       600000 non-null float64\n",
      "month     600000 non-null float64\n",
      "target    600000 non-null int64\n",
      "dtypes: float64(3), int64(7), object(15)\n",
      "memory usage: 114.4+ MB\n"
     ]
    }
   ],
   "source": [
    "X_train.info()"
   ]
  },
  {
   "cell_type": "code",
   "execution_count": 22,
   "metadata": {},
   "outputs": [
    {
     "data": {
      "text/html": [
       "<div>\n",
       "<style scoped>\n",
       "    .dataframe tbody tr th:only-of-type {\n",
       "        vertical-align: middle;\n",
       "    }\n",
       "\n",
       "    .dataframe tbody tr th {\n",
       "        vertical-align: top;\n",
       "    }\n",
       "\n",
       "    .dataframe thead th {\n",
       "        text-align: right;\n",
       "    }\n",
       "</style>\n",
       "<table border=\"1\" class=\"dataframe\">\n",
       "  <thead>\n",
       "    <tr style=\"text-align: right;\">\n",
       "      <th></th>\n",
       "      <th>nom_0</th>\n",
       "      <th>nom_1</th>\n",
       "      <th>nom_2</th>\n",
       "      <th>nom_3</th>\n",
       "      <th>nom_4</th>\n",
       "      <th>nom_5</th>\n",
       "      <th>nom_6</th>\n",
       "      <th>nom_7</th>\n",
       "      <th>nom_8</th>\n",
       "      <th>nom_9</th>\n",
       "      <th>ord_1</th>\n",
       "      <th>ord_2</th>\n",
       "      <th>ord_3</th>\n",
       "      <th>ord_4</th>\n",
       "      <th>ord_5</th>\n",
       "    </tr>\n",
       "  </thead>\n",
       "  <tbody>\n",
       "    <tr>\n",
       "      <th>0</th>\n",
       "      <td>Blue</td>\n",
       "      <td>Polygon</td>\n",
       "      <td>Axolotl</td>\n",
       "      <td>Finland</td>\n",
       "      <td>Piano</td>\n",
       "      <td>52f6dd16c</td>\n",
       "      <td>147d704e4</td>\n",
       "      <td>8d857a0a1</td>\n",
       "      <td>ca9ad1d4b</td>\n",
       "      <td>fced9e114</td>\n",
       "      <td>Novice</td>\n",
       "      <td>Boiling Hot</td>\n",
       "      <td>f</td>\n",
       "      <td>U</td>\n",
       "      <td>oU</td>\n",
       "    </tr>\n",
       "    <tr>\n",
       "      <th>1</th>\n",
       "      <td>Red</td>\n",
       "      <td>Circle</td>\n",
       "      <td>Lion</td>\n",
       "      <td>Russia</td>\n",
       "      <td>Bassoon</td>\n",
       "      <td>691ebeae8</td>\n",
       "      <td>8653dcc2e</td>\n",
       "      <td>67a8d4ebb</td>\n",
       "      <td>060a21580</td>\n",
       "      <td>7ca8775da</td>\n",
       "      <td>Novice</td>\n",
       "      <td>Cold</td>\n",
       "      <td>n</td>\n",
       "      <td>N</td>\n",
       "      <td>Fl</td>\n",
       "    </tr>\n",
       "    <tr>\n",
       "      <th>2</th>\n",
       "      <td>Blue</td>\n",
       "      <td>Circle</td>\n",
       "      <td>Axolotl</td>\n",
       "      <td>Russia</td>\n",
       "      <td>Theremin</td>\n",
       "      <td>81f792c16</td>\n",
       "      <td>6cdda499e</td>\n",
       "      <td>69403e18c</td>\n",
       "      <td>165e81a00</td>\n",
       "      <td>5940334c9</td>\n",
       "      <td>Expert</td>\n",
       "      <td>Warm</td>\n",
       "      <td>i</td>\n",
       "      <td>N</td>\n",
       "      <td>DN</td>\n",
       "    </tr>\n",
       "    <tr>\n",
       "      <th>3</th>\n",
       "      <td>Red</td>\n",
       "      <td>Polygon</td>\n",
       "      <td>Axolotl</td>\n",
       "      <td>Costa Rica</td>\n",
       "      <td>Bassoon</td>\n",
       "      <td>c9134205b</td>\n",
       "      <td>acbca4827</td>\n",
       "      <td>cb681246b</td>\n",
       "      <td>77d41330d</td>\n",
       "      <td>6fbdeefc8</td>\n",
       "      <td>Expert</td>\n",
       "      <td>Hot</td>\n",
       "      <td>m</td>\n",
       "      <td>B</td>\n",
       "      <td>AG</td>\n",
       "    </tr>\n",
       "    <tr>\n",
       "      <th>4</th>\n",
       "      <td>Red</td>\n",
       "      <td>Circle</td>\n",
       "      <td>Hamster</td>\n",
       "      <td>Finland</td>\n",
       "      <td>Theremin</td>\n",
       "      <td>f0f100f57</td>\n",
       "      <td>6f800b9af</td>\n",
       "      <td>cd9feb5c6</td>\n",
       "      <td>2218d9dfe</td>\n",
       "      <td>2a27c8fde</td>\n",
       "      <td>Contributor</td>\n",
       "      <td>Lava Hot</td>\n",
       "      <td>o</td>\n",
       "      <td>J</td>\n",
       "      <td>DT</td>\n",
       "    </tr>\n",
       "  </tbody>\n",
       "</table>\n",
       "</div>"
      ],
      "text/plain": [
       "  nom_0    nom_1    nom_2       nom_3     nom_4      nom_5      nom_6  \\\n",
       "0  Blue  Polygon  Axolotl     Finland     Piano  52f6dd16c  147d704e4   \n",
       "1   Red   Circle     Lion      Russia   Bassoon  691ebeae8  8653dcc2e   \n",
       "2  Blue   Circle  Axolotl      Russia  Theremin  81f792c16  6cdda499e   \n",
       "3   Red  Polygon  Axolotl  Costa Rica   Bassoon  c9134205b  acbca4827   \n",
       "4   Red   Circle  Hamster     Finland  Theremin  f0f100f57  6f800b9af   \n",
       "\n",
       "       nom_7      nom_8      nom_9        ord_1        ord_2 ord_3 ord_4 ord_5  \n",
       "0  8d857a0a1  ca9ad1d4b  fced9e114       Novice  Boiling Hot     f     U    oU  \n",
       "1  67a8d4ebb  060a21580  7ca8775da       Novice         Cold     n     N    Fl  \n",
       "2  69403e18c  165e81a00  5940334c9       Expert         Warm     i     N    DN  \n",
       "3  cb681246b  77d41330d  6fbdeefc8       Expert          Hot     m     B    AG  \n",
       "4  cd9feb5c6  2218d9dfe  2a27c8fde  Contributor     Lava Hot     o     J    DT  "
      ]
     },
     "execution_count": 22,
     "metadata": {},
     "output_type": "execute_result"
    }
   ],
   "source": [
    "cat_cols_encoding= X_train.select_dtypes(include=['object']).columns.to_list()\n",
    "X_test[cat_cols_encoding].head()\n"
   ]
  },
  {
   "cell_type": "code",
   "execution_count": 23,
   "metadata": {},
   "outputs": [
    {
     "data": {
      "text/plain": [
       "Index(['id', 'bin_0', 'bin_1', 'bin_2', 'bin_3', 'bin_4', 'nom_0', 'nom_1',\n",
       "       'nom_2', 'nom_3', 'nom_4', 'nom_5', 'nom_6', 'nom_7', 'nom_8', 'nom_9',\n",
       "       'ord_0', 'ord_1', 'ord_2', 'ord_3', 'ord_4', 'ord_5', 'day', 'month'],\n",
       "      dtype='object')"
      ]
     },
     "execution_count": 23,
     "metadata": {},
     "output_type": "execute_result"
    }
   ],
   "source": [
    "# X_train[cat_cols_encoding].head()\n",
    "X_test.columns"
   ]
  },
  {
   "cell_type": "code",
   "execution_count": 24,
   "metadata": {
    "collapsed": true
   },
   "outputs": [],
   "source": [
    "# we will do Random Forest Method to Identify the target. for that we will do Label encoding.\n",
    "\n",
    "\n",
    "cat_cols_encoding= X_train.select_dtypes(include=['object']).columns.to_list()\n",
    "\n",
    "from sklearn.preprocessing import LabelEncoder\n",
    "\n",
    "# Apply label encoder to each column with categorical data\n",
    "label_encoder = LabelEncoder()\n",
    "\n",
    "for col in cat_cols_encoding:\n",
    "    X_train[c]= label_encoder.fit_transform(X_train[c])\n",
    " \n",
    "\n"
   ]
  },
  {
   "cell_type": "code",
   "execution_count": 25,
   "metadata": {},
   "outputs": [
    {
     "ename": "ValueError",
     "evalue": "y contains previously unseen labels: 'Blue'",
     "output_type": "error",
     "traceback": [
      "\u001b[0;31m---------------------------------------------------------------------------\u001b[0m",
      "\u001b[0;31mKeyError\u001b[0m                                  Traceback (most recent call last)",
      "\u001b[0;32m/opt/conda/lib/python3.6/site-packages/sklearn/preprocessing/_label.py\u001b[0m in \u001b[0;36m_encode_python\u001b[0;34m(values, uniques, encode)\u001b[0m\n\u001b[1;32m     64\u001b[0m         \u001b[0;32mtry\u001b[0m\u001b[0;34m:\u001b[0m\u001b[0;34m\u001b[0m\u001b[0m\n\u001b[0;32m---> 65\u001b[0;31m             \u001b[0mencoded\u001b[0m \u001b[0;34m=\u001b[0m \u001b[0mnp\u001b[0m\u001b[0;34m.\u001b[0m\u001b[0marray\u001b[0m\u001b[0;34m(\u001b[0m\u001b[0;34m[\u001b[0m\u001b[0mtable\u001b[0m\u001b[0;34m[\u001b[0m\u001b[0mv\u001b[0m\u001b[0;34m]\u001b[0m \u001b[0;32mfor\u001b[0m \u001b[0mv\u001b[0m \u001b[0;32min\u001b[0m \u001b[0mvalues\u001b[0m\u001b[0;34m]\u001b[0m\u001b[0;34m)\u001b[0m\u001b[0;34m\u001b[0m\u001b[0m\n\u001b[0m\u001b[1;32m     66\u001b[0m         \u001b[0;32mexcept\u001b[0m \u001b[0mKeyError\u001b[0m \u001b[0;32mas\u001b[0m \u001b[0me\u001b[0m\u001b[0;34m:\u001b[0m\u001b[0;34m\u001b[0m\u001b[0m\n",
      "\u001b[0;32m/opt/conda/lib/python3.6/site-packages/sklearn/preprocessing/_label.py\u001b[0m in \u001b[0;36m<listcomp>\u001b[0;34m(.0)\u001b[0m\n\u001b[1;32m     64\u001b[0m         \u001b[0;32mtry\u001b[0m\u001b[0;34m:\u001b[0m\u001b[0;34m\u001b[0m\u001b[0m\n\u001b[0;32m---> 65\u001b[0;31m             \u001b[0mencoded\u001b[0m \u001b[0;34m=\u001b[0m \u001b[0mnp\u001b[0m\u001b[0;34m.\u001b[0m\u001b[0marray\u001b[0m\u001b[0;34m(\u001b[0m\u001b[0;34m[\u001b[0m\u001b[0mtable\u001b[0m\u001b[0;34m[\u001b[0m\u001b[0mv\u001b[0m\u001b[0;34m]\u001b[0m \u001b[0;32mfor\u001b[0m \u001b[0mv\u001b[0m \u001b[0;32min\u001b[0m \u001b[0mvalues\u001b[0m\u001b[0;34m]\u001b[0m\u001b[0;34m)\u001b[0m\u001b[0;34m\u001b[0m\u001b[0m\n\u001b[0m\u001b[1;32m     66\u001b[0m         \u001b[0;32mexcept\u001b[0m \u001b[0mKeyError\u001b[0m \u001b[0;32mas\u001b[0m \u001b[0me\u001b[0m\u001b[0;34m:\u001b[0m\u001b[0;34m\u001b[0m\u001b[0m\n",
      "\u001b[0;31mKeyError\u001b[0m: 'Blue'",
      "\nDuring handling of the above exception, another exception occurred:\n",
      "\u001b[0;31mValueError\u001b[0m                                Traceback (most recent call last)",
      "\u001b[0;32m<ipython-input-25-2c03b50af1f3>\u001b[0m in \u001b[0;36m<module>\u001b[0;34m\u001b[0m\n\u001b[1;32m      1\u001b[0m \u001b[0;32mfor\u001b[0m \u001b[0mc\u001b[0m \u001b[0;32min\u001b[0m \u001b[0mcat_cols_encoding\u001b[0m\u001b[0;34m:\u001b[0m\u001b[0;34m\u001b[0m\u001b[0m\n\u001b[0;32m----> 2\u001b[0;31m     \u001b[0mX_test\u001b[0m\u001b[0;34m[\u001b[0m\u001b[0mc\u001b[0m\u001b[0;34m]\u001b[0m \u001b[0;34m=\u001b[0m \u001b[0mlabel_encoder\u001b[0m\u001b[0;34m.\u001b[0m\u001b[0mtransform\u001b[0m\u001b[0;34m(\u001b[0m\u001b[0mX_test\u001b[0m\u001b[0;34m[\u001b[0m\u001b[0mc\u001b[0m\u001b[0;34m]\u001b[0m\u001b[0;34m)\u001b[0m\u001b[0;34m\u001b[0m\u001b[0m\n\u001b[0m",
      "\u001b[0;32m/opt/conda/lib/python3.6/site-packages/sklearn/preprocessing/_label.py\u001b[0m in \u001b[0;36mtransform\u001b[0;34m(self, y)\u001b[0m\n\u001b[1;32m    271\u001b[0m             \u001b[0;32mreturn\u001b[0m \u001b[0mnp\u001b[0m\u001b[0;34m.\u001b[0m\u001b[0marray\u001b[0m\u001b[0;34m(\u001b[0m\u001b[0;34m[\u001b[0m\u001b[0;34m]\u001b[0m\u001b[0;34m)\u001b[0m\u001b[0;34m\u001b[0m\u001b[0m\n\u001b[1;32m    272\u001b[0m \u001b[0;34m\u001b[0m\u001b[0m\n\u001b[0;32m--> 273\u001b[0;31m         \u001b[0m_\u001b[0m\u001b[0;34m,\u001b[0m \u001b[0my\u001b[0m \u001b[0;34m=\u001b[0m \u001b[0m_encode\u001b[0m\u001b[0;34m(\u001b[0m\u001b[0my\u001b[0m\u001b[0;34m,\u001b[0m \u001b[0muniques\u001b[0m\u001b[0;34m=\u001b[0m\u001b[0mself\u001b[0m\u001b[0;34m.\u001b[0m\u001b[0mclasses_\u001b[0m\u001b[0;34m,\u001b[0m \u001b[0mencode\u001b[0m\u001b[0;34m=\u001b[0m\u001b[0;32mTrue\u001b[0m\u001b[0;34m)\u001b[0m\u001b[0;34m\u001b[0m\u001b[0m\n\u001b[0m\u001b[1;32m    274\u001b[0m         \u001b[0;32mreturn\u001b[0m \u001b[0my\u001b[0m\u001b[0;34m\u001b[0m\u001b[0m\n\u001b[1;32m    275\u001b[0m \u001b[0;34m\u001b[0m\u001b[0m\n",
      "\u001b[0;32m/opt/conda/lib/python3.6/site-packages/sklearn/preprocessing/_label.py\u001b[0m in \u001b[0;36m_encode\u001b[0;34m(values, uniques, encode, check_unknown)\u001b[0m\n\u001b[1;32m    110\u001b[0m     \u001b[0;32mif\u001b[0m \u001b[0mvalues\u001b[0m\u001b[0;34m.\u001b[0m\u001b[0mdtype\u001b[0m \u001b[0;34m==\u001b[0m \u001b[0mobject\u001b[0m\u001b[0;34m:\u001b[0m\u001b[0;34m\u001b[0m\u001b[0m\n\u001b[1;32m    111\u001b[0m         \u001b[0;32mtry\u001b[0m\u001b[0;34m:\u001b[0m\u001b[0;34m\u001b[0m\u001b[0m\n\u001b[0;32m--> 112\u001b[0;31m             \u001b[0mres\u001b[0m \u001b[0;34m=\u001b[0m \u001b[0m_encode_python\u001b[0m\u001b[0;34m(\u001b[0m\u001b[0mvalues\u001b[0m\u001b[0;34m,\u001b[0m \u001b[0muniques\u001b[0m\u001b[0;34m,\u001b[0m \u001b[0mencode\u001b[0m\u001b[0;34m)\u001b[0m\u001b[0;34m\u001b[0m\u001b[0m\n\u001b[0m\u001b[1;32m    113\u001b[0m         \u001b[0;32mexcept\u001b[0m \u001b[0mTypeError\u001b[0m\u001b[0;34m:\u001b[0m\u001b[0;34m\u001b[0m\u001b[0m\n\u001b[1;32m    114\u001b[0m             \u001b[0;32mraise\u001b[0m \u001b[0mTypeError\u001b[0m\u001b[0;34m(\u001b[0m\u001b[0;34m\"argument must be a string or number\"\u001b[0m\u001b[0;34m)\u001b[0m\u001b[0;34m\u001b[0m\u001b[0m\n",
      "\u001b[0;32m/opt/conda/lib/python3.6/site-packages/sklearn/preprocessing/_label.py\u001b[0m in \u001b[0;36m_encode_python\u001b[0;34m(values, uniques, encode)\u001b[0m\n\u001b[1;32m     66\u001b[0m         \u001b[0;32mexcept\u001b[0m \u001b[0mKeyError\u001b[0m \u001b[0;32mas\u001b[0m \u001b[0me\u001b[0m\u001b[0;34m:\u001b[0m\u001b[0;34m\u001b[0m\u001b[0m\n\u001b[1;32m     67\u001b[0m             raise ValueError(\"y contains previously unseen labels: %s\"\n\u001b[0;32m---> 68\u001b[0;31m                              % str(e))\n\u001b[0m\u001b[1;32m     69\u001b[0m         \u001b[0;32mreturn\u001b[0m \u001b[0muniques\u001b[0m\u001b[0;34m,\u001b[0m \u001b[0mencoded\u001b[0m\u001b[0;34m\u001b[0m\u001b[0m\n\u001b[1;32m     70\u001b[0m     \u001b[0;32melse\u001b[0m\u001b[0;34m:\u001b[0m\u001b[0;34m\u001b[0m\u001b[0m\n",
      "\u001b[0;31mValueError\u001b[0m: y contains previously unseen labels: 'Blue'"
     ]
    }
   ],
   "source": [
    "for c in cat_cols_encoding:\n",
    "    X_test[c] = label_encoder.transform(X_test[c])"
   ]
  }
 ],
 "metadata": {
  "kernelspec": {
   "display_name": "Python 3",
   "language": "python",
   "name": "python3"
  },
  "language_info": {
   "codemirror_mode": {
    "name": "ipython",
    "version": 3
   },
   "file_extension": ".py",
   "mimetype": "text/x-python",
   "name": "python",
   "nbconvert_exporter": "python",
   "pygments_lexer": "ipython3",
   "version": "3.6.6"
  }
 },
 "nbformat": 4,
 "nbformat_minor": 4
}
